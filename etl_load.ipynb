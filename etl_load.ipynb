{
 "cells": [
  {
   "cell_type": "code",
   "execution_count": 18,
   "id": "022745c5",
   "metadata": {},
   "outputs": [],
   "source": [
    "# Section 1: Load Setup\n",
    "\n",
    "import pandas as pd\n",
    "import sqlite3\n",
    "\n",
    "# create SQLite DB paths\n",
    "full_db_path = \"loaded_data/full_data.db\"\n",
    "incremental_db_path = \"loaded_data/incremental_data.db\"\n",
    "\n"
   ]
  },
  {
   "cell_type": "code",
   "execution_count": 19,
   "id": "224423a0",
   "metadata": {},
   "outputs": [
    {
     "name": "stdout",
     "output_type": "stream",
     "text": [
      "Full transformed data loaded into SQLite successfully.\n"
     ]
    }
   ],
   "source": [
    "import pandas as pd\n",
    "import sqlite3\n",
    "\n",
    "# Section 2: Load Full Transformed Data\n",
    "\n",
    "# Read the transformed CSV\n",
    "full_df = pd.read_csv('transformed_full.csv')\n",
    "\n",
    "# Define database file path\n",
    "db_path_full = 'loaded_data/full_data.db'\n",
    "\n",
    "# Connect to SQLite\n",
    "conn_full = sqlite3.connect(db_path_full)\n",
    "\n",
    "# Load into SQLite\n",
    "full_df.to_sql('full_data', conn_full, if_exists='replace', index=False)\n",
    "\n",
    "# Close connection\n",
    "conn_full.close()\n",
    "\n",
    "print(\"Full transformed data loaded into SQLite successfully.\")\n",
    "\n"
   ]
  },
  {
   "cell_type": "code",
   "execution_count": 20,
   "id": "ae02416a",
   "metadata": {},
   "outputs": [
    {
     "name": "stdout",
     "output_type": "stream",
     "text": [
      "Incremental transformed data loaded into SQLite successfully.\n"
     ]
    }
   ],
   "source": [
    "# Section 3: Load Incremental Transformed Data\n",
    "\n",
    "import pandas as pd\n",
    "import sqlite3\n",
    "\n",
    "# Define the incremental database path (if not already defined in Section 1)\n",
    "db_path_incremental = 'loaded_data/incremental_data.db'\n",
    "\n",
    "# Read the transformed incremental CSV\n",
    "inc_df = pd.read_csv('transformed_incremental.csv')\n",
    "\n",
    "# Connect to SQLite\n",
    "conn_inc = sqlite3.connect(db_path_incremental)\n",
    "\n",
    "# Write to SQLite table\n",
    "inc_df.to_sql('incremental_data', conn_inc, if_exists='replace', index=False)\n",
    "\n",
    "# Close the connection\n",
    "conn_inc.close()\n",
    "\n",
    "print(\"Incremental transformed data loaded into SQLite successfully.\")\n",
    "\n"
   ]
  },
  {
   "cell_type": "code",
   "execution_count": 21,
   "id": "5a1f83c4",
   "metadata": {},
   "outputs": [
    {
     "name": "stdout",
     "output_type": "stream",
     "text": [
      "  CustomerName Product  Quantity  Price  TotalPrice        Date     Category  \\\n",
      "0        Alice  Laptop         3    350        1050  2024-01-29  Electronics   \n",
      "1          Bob  Laptop         5    189         945  2024-03-16  Electronics   \n",
      "2        Diana  Laptop         1    195         195  2024-01-28  Electronics   \n",
      "3          Bob  Laptop         5    303        1515  2024-04-01  Electronics   \n",
      "4        Diana   Phone         4    703        2812  2024-02-05  Electronics   \n",
      "\n",
      "   total_price PriceCategory  \n",
      "0         1050     Very High  \n",
      "1          945          High  \n",
      "2          195        Medium  \n",
      "3         1515     Very High  \n",
      "4         2812     Very High  \n"
     ]
    }
   ],
   "source": [
    "# Re-open connection to check data\n",
    "conn_full = sqlite3.connect(db_path_full)\n",
    "\n",
    "# Preview the first few rows\n",
    "preview = pd.read_sql_query(\"SELECT * FROM full_data LIMIT 5\", conn_full)\n",
    "print(preview)\n",
    "\n",
    "conn_full.close()\n"
   ]
  }
 ],
 "metadata": {
  "kernelspec": {
   "display_name": "Python 3",
   "language": "python",
   "name": "python3"
  },
  "language_info": {
   "codemirror_mode": {
    "name": "ipython",
    "version": 3
   },
   "file_extension": ".py",
   "mimetype": "text/x-python",
   "name": "python",
   "nbconvert_exporter": "python",
   "pygments_lexer": "ipython3",
   "version": "3.12.10"
  }
 },
 "nbformat": 4,
 "nbformat_minor": 5
}
