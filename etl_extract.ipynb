{
 "cells": [
  {
   "cell_type": "code",
   "execution_count": 1,
   "id": "f40b7bd8",
   "metadata": {},
   "outputs": [
    {
     "name": "stdout",
     "output_type": "stream",
     "text": [
      "Full Dataset Preview:\n",
      "  CustomerName Product  Quantity  Price  TotalPrice        Date     Category\n",
      "0        Alice  Laptop         3    350        1050  29/01/2024  Electronics\n",
      "1          Bob  Laptop         5    189         945  16/03/2024  Electronics\n",
      "2        Diana  Laptop         1    195         195  28/01/2024  Electronics\n",
      "3          Bob  Laptop         5    303        1515  01/04/2024  Electronics\n",
      "4        Diana   Phone         4    703        2812  05/02/2024  Electronics\n",
      "\n",
      "Dataset contains 50 rows and 7 columns.\n",
      "Extracted 50 rows fully.\n"
     ]
    }
   ],
   "source": [
    "import pandas as pd\n",
    "\n",
    "# Loading dataset\n",
    "df = pd.read_csv(\"custom_data.csv\")\n",
    "\n",
    "# Showing the dataset overview\n",
    "print(\"Full Dataset Preview:\")\n",
    "print(df.head())\n",
    "\n",
    "print(f\"\\nDataset contains {df.shape[0]} rows and {df.shape[1]} columns.\")\n",
    "print(f\"Extracted {df.shape[0]} rows fully.\")"
   ]
  },
  {
   "cell_type": "code",
   "execution_count": 2,
   "id": "285f3e2d",
   "metadata": {},
   "outputs": [
    {
     "name": "stdout",
     "output_type": "stream",
     "text": [
      "\n",
      "Extracted 0 rows incrementally since last check.\n",
      "Empty DataFrame\n",
      "Columns: [CustomerName, Product, Quantity, Price, TotalPrice, Date, Category]\n",
      "Index: []\n"
     ]
    }
   ],
   "source": [
    "from datetime import datetime\n",
    "\n",
    "# Converting the Date column to datetime format \n",
    "df['Date'] = pd.to_datetime(df['Date'], dayfirst=True)\n",
    "\n",
    "# Reading the last extraction date\n",
    "with open(\"last_extraction.txt\", \"r\") as file:\n",
    "    last_extraction_str = file.read().strip()\n",
    "\n",
    "last_extraction_date = datetime.strptime(last_extraction_str, \"%d/%m/%Y\")\n",
    "\n",
    "# Filtering rows where date is after the last extraction\n",
    "incremental_df = df[df['Date'] > last_extraction_date]\n",
    "\n",
    "print(f\"\\nExtracted {incremental_df.shape[0]} rows incrementally since last check.\")\n",
    "print(incremental_df)\n"
   ]
  },
  {
   "cell_type": "code",
   "execution_count": 3,
   "id": "d1b0dfe3",
   "metadata": {},
   "outputs": [
    {
     "name": "stdout",
     "output_type": "stream",
     "text": [
      "\n",
      "Updated last_extraction.txt with new date: 07/04/2024\n"
     ]
    }
   ],
   "source": [
    "# Getting the latest date from the dataset\n",
    "new_last_extraction = df['Date'].max()\n",
    "\n",
    "# Saving the new extraction date\n",
    "with open(\"last_extraction.txt\", \"w\") as file:\n",
    "    file.write(new_last_extraction.strftime(\"%d/%m/%Y\"))\n",
    "\n",
    "print(f\"\\nUpdated last_extraction.txt with new date: {new_last_extraction.strftime('%d/%m/%Y')}\")\n"
   ]
  },
  {
   "cell_type": "code",
   "execution_count": null,
   "id": "b38fcea9",
   "metadata": {},
   "outputs": [
    {
     "name": "stderr",
     "output_type": "stream",
     "text": [
      "C:\\Users\\Jules\\AppData\\Local\\Temp\\ipykernel_61976\\1024223572.py:17: UserWarning: Parsing dates in %d/%m/%Y format when dayfirst=False (the default) was specified. Pass `dayfirst=True` or specify a format to silence this warning.\n",
      "  full_df['Date'] = pd.to_datetime(full_df['Date'], errors='coerce')\n"
     ]
    },
    {
     "data": {
      "text/html": [
       "<div>\n",
       "<style scoped>\n",
       "    .dataframe tbody tr th:only-of-type {\n",
       "        vertical-align: middle;\n",
       "    }\n",
       "\n",
       "    .dataframe tbody tr th {\n",
       "        vertical-align: top;\n",
       "    }\n",
       "\n",
       "    .dataframe thead th {\n",
       "        text-align: right;\n",
       "    }\n",
       "</style>\n",
       "<table border=\"1\" class=\"dataframe\">\n",
       "  <thead>\n",
       "    <tr style=\"text-align: right;\">\n",
       "      <th></th>\n",
       "      <th>CustomerName</th>\n",
       "      <th>Product</th>\n",
       "      <th>Quantity</th>\n",
       "      <th>Price</th>\n",
       "      <th>TotalPrice</th>\n",
       "      <th>Date</th>\n",
       "      <th>Category</th>\n",
       "      <th>total_price</th>\n",
       "      <th>PriceCategory</th>\n",
       "    </tr>\n",
       "  </thead>\n",
       "  <tbody>\n",
       "    <tr>\n",
       "      <th>0</th>\n",
       "      <td>Alice</td>\n",
       "      <td>Laptop</td>\n",
       "      <td>3</td>\n",
       "      <td>350</td>\n",
       "      <td>1050</td>\n",
       "      <td>2024-01-29</td>\n",
       "      <td>Electronics</td>\n",
       "      <td>1050</td>\n",
       "      <td>Very High</td>\n",
       "    </tr>\n",
       "    <tr>\n",
       "      <th>1</th>\n",
       "      <td>Bob</td>\n",
       "      <td>Laptop</td>\n",
       "      <td>5</td>\n",
       "      <td>189</td>\n",
       "      <td>945</td>\n",
       "      <td>2024-03-16</td>\n",
       "      <td>Electronics</td>\n",
       "      <td>945</td>\n",
       "      <td>High</td>\n",
       "    </tr>\n",
       "    <tr>\n",
       "      <th>2</th>\n",
       "      <td>Diana</td>\n",
       "      <td>Laptop</td>\n",
       "      <td>1</td>\n",
       "      <td>195</td>\n",
       "      <td>195</td>\n",
       "      <td>2024-01-28</td>\n",
       "      <td>Electronics</td>\n",
       "      <td>195</td>\n",
       "      <td>Medium</td>\n",
       "    </tr>\n",
       "    <tr>\n",
       "      <th>3</th>\n",
       "      <td>Bob</td>\n",
       "      <td>Laptop</td>\n",
       "      <td>5</td>\n",
       "      <td>303</td>\n",
       "      <td>1515</td>\n",
       "      <td>2024-04-01</td>\n",
       "      <td>Electronics</td>\n",
       "      <td>1515</td>\n",
       "      <td>Very High</td>\n",
       "    </tr>\n",
       "    <tr>\n",
       "      <th>4</th>\n",
       "      <td>Diana</td>\n",
       "      <td>Phone</td>\n",
       "      <td>4</td>\n",
       "      <td>703</td>\n",
       "      <td>2812</td>\n",
       "      <td>2024-02-05</td>\n",
       "      <td>Electronics</td>\n",
       "      <td>2812</td>\n",
       "      <td>Very High</td>\n",
       "    </tr>\n",
       "  </tbody>\n",
       "</table>\n",
       "</div>"
      ],
      "text/plain": [
       "  CustomerName Product  Quantity  Price  TotalPrice       Date     Category  \\\n",
       "0        Alice  Laptop         3    350        1050 2024-01-29  Electronics   \n",
       "1          Bob  Laptop         5    189         945 2024-03-16  Electronics   \n",
       "2        Diana  Laptop         1    195         195 2024-01-28  Electronics   \n",
       "3          Bob  Laptop         5    303        1515 2024-04-01  Electronics   \n",
       "4        Diana   Phone         4    703        2812 2024-02-05  Electronics   \n",
       "\n",
       "   total_price PriceCategory  \n",
       "0         1050     Very High  \n",
       "1          945          High  \n",
       "2          195        Medium  \n",
       "3         1515     Very High  \n",
       "4         2812     Very High  "
      ]
     },
     "execution_count": 21,
     "metadata": {},
     "output_type": "execute_result"
    }
   ],
   "source": [
    "import pandas as pd\n",
    "\n",
    "# Loading full dataset\n",
    "full_df = pd.read_csv('custom_data.csv')\n",
    "\n",
    "# 1. Cleaning: Remove duplicates\n",
    "full_df = full_df.drop_duplicates()\n",
    "\n",
    "# 2. Cleaning: Handle missing values\n",
    "full_df['Quantity'] = full_df['Quantity'].fillna(0)\n",
    "full_df['Price'] = full_df['Price'].fillna(0)\n",
    "\n",
    "# 3. Enriching: Add TotalPrice\n",
    "full_df['total_price'] = full_df['Quantity'] * full_df['Price']\n",
    "\n",
    "# 4. Structuring: Convert order_date to datetime\n",
    "full_df['Date'] = pd.to_datetime(full_df['Date'], errors='coerce')\n",
    "\n",
    "# 5. Categorizing TotalPrice\n",
    "bins = [0, 100, 500, 1000, float('inf')]\n",
    "labels = ['Low', 'Medium', 'High', 'Very High']\n",
    "full_df['PriceCategory'] = pd.cut(full_df['TotalPrice'], bins=bins, labels=labels)\n",
    "\n",
    "# Saving transformed full dataset\n",
    "full_df.to_csv('transformed_full.csv', index=False)\n",
    "\n",
    "# Preview\n",
    "full_df.head()\n",
    "\n"
   ]
  },
  {
   "cell_type": "code",
   "execution_count": 24,
   "id": "f7c4f66a",
   "metadata": {},
   "outputs": [
    {
     "name": "stdout",
     "output_type": "stream",
     "text": [
      "Transformed Incremental Data Sample:\n",
      "   CustomerName  Product  Quantity  Price  TotalPrice       Date     Category  \\\n",
      "30        Alice   Laptop         3    999        2997 2024-09-02  Electronics   \n",
      "31          Bob   Laptop         2    999        1998        NaT  Electronics   \n",
      "32        Alice   Laptop         4    935        3740 2024-09-01  Electronics   \n",
      "33          Bob    Phone         4    662        2648        NaT  Electronics   \n",
      "34      Charlie  Monitor         2    652        1304 2024-06-04  Accessories   \n",
      "\n",
      "   PriceCategory  \n",
      "30     Very High  \n",
      "31     Very High  \n",
      "32     Very High  \n",
      "33     Very High  \n",
      "34     Very High  \n"
     ]
    }
   ],
   "source": [
    "import pandas as pd\n",
    "\n",
    "\n",
    "\n",
    "# Simulating incremental data from full data \n",
    "full_df = pd.read_csv('custom_data.csv')\n",
    "inc_df = full_df.tail(20).copy()  # simulate incremental data\n",
    "\n",
    "# 1. Cleaning: Remove duplicates\n",
    "inc_df = inc_df.drop_duplicates()\n",
    "\n",
    "# 2. Cleaning: Handle missing values\n",
    "inc_df['Quantity'] = inc_df['Quantity'].fillna(0)\n",
    "inc_df['Price'] = inc_df['Price'].fillna(0)\n",
    "\n",
    "# 3. Enriching: Add total_price\n",
    "inc_df['TotalPrice'] = inc_df['Quantity'] * inc_df['Price']\n",
    "\n",
    "# 4. Structuring: Convert Date to datetime\n",
    "inc_df['Date'] = pd.to_datetime(inc_df['Date'], errors='coerce')\n",
    "\n",
    "# 5. Categorizing TotalPrice\n",
    "bins = [0, 100, 500, 1000, float('inf')]\n",
    "labels = ['Low', 'Medium', 'High', 'Very High']\n",
    "inc_df['PriceCategory'] = pd.cut(inc_df['TotalPrice'], bins=bins, labels=labels)\n",
    "\n",
    "# Saving the transformed incremental dataset\n",
    "inc_df.to_csv('transformed_incremental.csv', index=False)\n",
    "\n",
    "# Showing sample\n",
    "print(\"Transformed Incremental Data Sample:\")\n",
    "print(inc_df.head())\n"
   ]
  }
 ],
 "metadata": {
  "kernelspec": {
   "display_name": "Python 3",
   "language": "python",
   "name": "python3"
  },
  "language_info": {
   "codemirror_mode": {
    "name": "ipython",
    "version": 3
   },
   "file_extension": ".py",
   "mimetype": "text/x-python",
   "name": "python",
   "nbconvert_exporter": "python",
   "pygments_lexer": "ipython3",
   "version": "3.12.10"
  }
 },
 "nbformat": 4,
 "nbformat_minor": 5
}
